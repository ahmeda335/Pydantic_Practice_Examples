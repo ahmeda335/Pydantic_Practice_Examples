{
  "nbformat": 4,
  "nbformat_minor": 0,
  "metadata": {
    "colab": {
      "provenance": [],
      "authorship_tag": "ABX9TyOvC/4wmguVbvxxDE4pPxdm",
      "include_colab_link": true
    },
    "kernelspec": {
      "name": "python3",
      "display_name": "Python 3"
    },
    "language_info": {
      "name": "python"
    }
  },
  "cells": [
    {
      "cell_type": "markdown",
      "metadata": {
        "id": "view-in-github",
        "colab_type": "text"
      },
      "source": [
        "<a href=\"https://colab.research.google.com/github/ahmeda335/Pydantic_Practice_Examples/blob/main/PydanticPracticeExamples.ipynb\" target=\"_parent\"><img src=\"https://colab.research.google.com/assets/colab-badge.svg\" alt=\"Open In Colab\"/></a>"
      ]
    },
    {
      "cell_type": "markdown",
      "source": [
        "# These are 10 practices on pydantic which contain useful tips and tricks😀"
      ],
      "metadata": {
        "id": "0mg56BiW4CP4"
      }
    },
    {
      "cell_type": "markdown",
      "source": [
        "## 🔍🔍 I tried to import public functions first, and then at each single practice, I imported the related functions used there."
      ],
      "metadata": {
        "id": "IENt7fkw4X6c"
      }
    },
    {
      "cell_type": "code",
      "execution_count": 113,
      "metadata": {
        "id": "qK-ZNJ5VTP44"
      },
      "outputs": [],
      "source": [
        "from pydantic import BaseModel, Field, ValidationError\n",
        "from typing import List, Optional, Literal, Annotated\n",
        "from datetime import datetime"
      ]
    },
    {
      "cell_type": "code",
      "source": [
        "# BaseModel ---> It is the parent model that we inherit it to use the features of pydantic.\n",
        "\n",
        "\n",
        "# Literal['red', 'green', 'blue', 'yellow'] ---> enforces that the color must be one of the colors mentioned.\n",
        "\n",
        "\n",
        "#  Annotated in python ---> allows developers to declare the type of a reference and provide additional information related to it.\n",
        "#  name: Annotated[str, \"first letter is capital\"]\n",
        "\n",
        "\n",
        "# ValidationError ---> Error that appears when the instance created isn't similar to the pydantic schema.\n",
        "\n",
        "\n",
        "# EmailStr ---> It is a datatype to detect the shape of email, but to use it, I must install 'email-validator' as in the next cell."
      ],
      "metadata": {
        "id": "zhgwU3NzW9cx"
      },
      "execution_count": 114,
      "outputs": []
    },
    {
      "cell_type": "code",
      "source": [
        "!pip install email-validator -qU"
      ],
      "metadata": {
        "id": "rpv_PO5ujexm"
      },
      "execution_count": 115,
      "outputs": []
    },
    {
      "cell_type": "markdown",
      "source": [
        "## 1️⃣ User Registration Schema"
      ],
      "metadata": {
        "id": "E-YQhSkJpIdi"
      }
    },
    {
      "cell_type": "code",
      "source": [
        "from pydantic import EmailStr"
      ],
      "metadata": {
        "id": "_jw6eDQ5wCHA"
      },
      "execution_count": 116,
      "outputs": []
    },
    {
      "cell_type": "code",
      "source": [
        "#### Goal ####\n",
        "'''\n",
        "User Registration Schema\n",
        "  A user must have:\n",
        "    - A username (string, at least 5 characters)\n",
        "    - A password (string, at least 8 characters with one digit)\n",
        "    - An email (valid email format)\n",
        "    - An age (integer, at least 18)'''\n",
        "\n",
        "\n",
        "\n",
        "class Registration(BaseModel):\n",
        "  username : str = Field(..., min_length=5)\n",
        "  password : Annotated[str, Field(min_length=8, pattern=r'^[A-Za-z0-9]*[0-9][A-Za-z0-9]*$')]  # This regex pattern to detect the above condition.\n",
        "  email : EmailStr\n",
        "  age : int = Field(..., ge=18)  # ge --> greater than or equal.\n"
      ],
      "metadata": {
        "id": "0L2QivOheIy2"
      },
      "execution_count": 117,
      "outputs": []
    },
    {
      "cell_type": "code",
      "source": [
        "# Example of valid instance.\n",
        "try:\n",
        "  r = Registration(\n",
        "      username=  \"ahmed\",\n",
        "      password= \"ahmed30adel\",\n",
        "      email= \"ahmedadel@gmail.com\",\n",
        "      age=18\n",
        "  )\n",
        "  print(r)\n",
        "except ValidationError as e:\n",
        "  print(e)\n"
      ],
      "metadata": {
        "colab": {
          "base_uri": "https://localhost:8080/"
        },
        "id": "UjVL0gZUjgtJ",
        "outputId": "5c1a0fa6-4f90-4df5-b990-24beec45a4f4"
      },
      "execution_count": 118,
      "outputs": [
        {
          "output_type": "stream",
          "name": "stdout",
          "text": [
            "username='ahmed' password='ahmed30adel' email='ahmedadel@gmail.com' age=18\n"
          ]
        }
      ]
    },
    {
      "cell_type": "code",
      "source": [
        "# Example of invalid instance.\n",
        "try:\n",
        "  r = Registration(\n",
        "      username=  \"ahme\",\n",
        "      password= \"ahmedadel\",\n",
        "      email= \"ahmedadel@gmailcom\",\n",
        "      age=17\n",
        "  )\n",
        "  print(r)\n",
        "except ValidationError as e:\n",
        "  print(e)"
      ],
      "metadata": {
        "colab": {
          "base_uri": "https://localhost:8080/"
        },
        "id": "NTz7A4UslQmb",
        "outputId": "0d46aea4-df6b-4a50-c395-029d8b5ebd96"
      },
      "execution_count": 119,
      "outputs": [
        {
          "output_type": "stream",
          "name": "stdout",
          "text": [
            "4 validation errors for Registration\n",
            "username\n",
            "  String should have at least 5 characters [type=string_too_short, input_value='ahme', input_type=str]\n",
            "    For further information visit https://errors.pydantic.dev/2.10/v/string_too_short\n",
            "password\n",
            "  String should match pattern '^[A-Za-z0-9]*[0-9][A-Za-z0-9]*$' [type=string_pattern_mismatch, input_value='ahmedadel', input_type=str]\n",
            "    For further information visit https://errors.pydantic.dev/2.10/v/string_pattern_mismatch\n",
            "email\n",
            "  value is not a valid email address: The part after the @-sign is not valid. It should have a period. [type=value_error, input_value='ahmedadel@gmailcom', input_type=str]\n",
            "age\n",
            "  Input should be greater than or equal to 18 [type=greater_than_equal, input_value=17, input_type=int]\n",
            "    For further information visit https://errors.pydantic.dev/2.10/v/greater_than_equal\n"
          ]
        }
      ]
    },
    {
      "cell_type": "markdown",
      "source": [
        "## 2️⃣ Product Inventory Schema"
      ],
      "metadata": {
        "id": "b1VxfxrYwMHy"
      }
    },
    {
      "cell_type": "code",
      "source": [
        "from pydantic import confloat\n",
        "from annotated_types import Ge"
      ],
      "metadata": {
        "id": "h8l8NHZ8wPEQ"
      },
      "execution_count": 120,
      "outputs": []
    },
    {
      "cell_type": "code",
      "source": [
        "### Goal ###\n",
        "'''\n",
        "Product Inventory Schema\n",
        "  A product must have:\n",
        "    - A name (string, max length 50)\n",
        "    - A price (float, must be positive)\n",
        "    - A stock (integer, must be at least 0)\n",
        "    - A category (enum: \"electronics\", \"fashion\", \"books\", \"home\")\n",
        "    '''\n",
        "\n",
        "\n",
        "class ProductInventory(BaseModel):\n",
        "  name : str = Field(max_length=50),\n",
        "  price : confloat(gt=0.0)\n",
        "  stock : Annotated[int, Ge(0)]  # This makes sure that the integer is Grater than or equal to zero\n",
        "  category : Literal[\"electronics\", \"fashion\", \"books\", \"home\"]\n"
      ],
      "metadata": {
        "id": "sQeTWRalpour"
      },
      "execution_count": 121,
      "outputs": []
    },
    {
      "cell_type": "code",
      "source": [
        "# Example of valid instance.\n",
        "try:\n",
        "  p = ProductInventory(\n",
        "      name = 'Printing Machine',\n",
        "      price = 2250,\n",
        "      stock = 2,\n",
        "      category= \"electronics\"\n",
        "  )\n",
        "  print(p)\n",
        "except ValidationError as e:\n",
        "  print(e)\n",
        "\n"
      ],
      "metadata": {
        "colab": {
          "base_uri": "https://localhost:8080/"
        },
        "id": "qQH_KYdvsjVw",
        "outputId": "78346ad3-2d13-4b3e-c530-90befe934ad5"
      },
      "execution_count": 122,
      "outputs": [
        {
          "output_type": "stream",
          "name": "stdout",
          "text": [
            "name='Printing Machine' price=2250.0 stock=2 category='electronics'\n"
          ]
        }
      ]
    },
    {
      "cell_type": "code",
      "source": [
        "# Example of invalid instance.\n",
        "try:\n",
        "  p = ProductInventory(\n",
        "      name = 'Printing Machine',\n",
        "      price = -2250,\n",
        "      stock = -2,\n",
        "      category= \"Mechanic\"\n",
        "  )\n",
        "  print(p)\n",
        "except ValidationError as e:\n",
        "  print(e)"
      ],
      "metadata": {
        "colab": {
          "base_uri": "https://localhost:8080/"
        },
        "id": "LQLl9BGEs2YX",
        "outputId": "155bbed6-674b-47bb-bff7-d00f4388ab85"
      },
      "execution_count": 123,
      "outputs": [
        {
          "output_type": "stream",
          "name": "stdout",
          "text": [
            "3 validation errors for ProductInventory\n",
            "price\n",
            "  Input should be greater than 0 [type=greater_than, input_value=-2250, input_type=int]\n",
            "    For further information visit https://errors.pydantic.dev/2.10/v/greater_than\n",
            "stock\n",
            "  Input should be greater than or equal to 0 [type=greater_than_equal, input_value=-2, input_type=int]\n",
            "    For further information visit https://errors.pydantic.dev/2.10/v/greater_than_equal\n",
            "category\n",
            "  Input should be 'electronics', 'fashion', 'books' or 'home' [type=literal_error, input_value='Mechanic', input_type=str]\n",
            "    For further information visit https://errors.pydantic.dev/2.10/v/literal_error\n"
          ]
        }
      ]
    },
    {
      "cell_type": "markdown",
      "source": [
        "## 3️⃣ Blog Post Schema"
      ],
      "metadata": {
        "id": "Gv1NLt6CxibQ"
      }
    },
    {
      "cell_type": "code",
      "source": [
        "### Goal ###\n",
        "'''\n",
        "Blog Post Schema\n",
        "  A blog post must have:\n",
        "    - A title (string, 10-100 characters)\n",
        "    - A content (string, at least 100 characters)\n",
        "    - A tags (list of up to 5 strings, max 20 characters each)\n",
        "    - A published_at (datetime, default to now)\n",
        "    - An author (nested model containing name and email)\n",
        "'''\n",
        "\n",
        "class author(BaseModel):\n",
        "  name : str\n",
        "  email : EmailStr\n",
        "\n",
        "class BlogPost(BaseModel):\n",
        "  title : Annotated[str, Field(min_length=10, max_length=100)]   # or --> 'constr(min_length=10, max_length=20)'\n",
        "  content : Annotated[str, Field(min_length=100)]\n",
        "  tags : Annotated[List[Annotated[str, Field(max_length=20)]], Field(max_items=5)]\n",
        "  published_at : datetime = Field(default='now'),\n",
        "  author : author"
      ],
      "metadata": {
        "id": "Jbw6h9VQteD4"
      },
      "execution_count": 124,
      "outputs": []
    },
    {
      "cell_type": "code",
      "source": [
        "# Example of valid instance.\n",
        "try:\n",
        "  b = BlogPost(\n",
        "      title = \"The Future of AI in Everyday Life\",\n",
        "      content= \"Artificial Intelligence is rapidly changing our world. \"\n",
        "        \"From smart assistants to self-driving cars, AI is reshaping industries. \"\n",
        "        \"In this article, we explore the potential and challenges of AI adoption.\",\n",
        "      tags= [\"AI\", \"technology\", \"future\"],\n",
        "      published_at=\"2025-03-04T12:30:00\",\n",
        "      author={\n",
        "        \"name\": \"John Doe\",\n",
        "        \"email\": \"john.doe@example.com\"\n",
        "    }\n",
        "  )\n",
        "  print(b)\n",
        "except ValidationError as e:\n",
        "  print(e)"
      ],
      "metadata": {
        "colab": {
          "base_uri": "https://localhost:8080/"
        },
        "id": "X-bQgswBzUrb",
        "outputId": "271d622d-f94e-4010-c54e-184732ec2f21"
      },
      "execution_count": 125,
      "outputs": [
        {
          "output_type": "stream",
          "name": "stdout",
          "text": [
            "title='The Future of AI in Everyday Life' content='Artificial Intelligence is rapidly changing our world. From smart assistants to self-driving cars, AI is reshaping industries. In this article, we explore the potential and challenges of AI adoption.' tags=['AI', 'technology', 'future'] published_at=datetime.datetime(2025, 3, 4, 12, 30) author=author(name='John Doe', email='john.doe@example.com')\n"
          ]
        }
      ]
    },
    {
      "cell_type": "code",
      "source": [
        "# Example of invalid instance.\n",
        "try:\n",
        "  b = BlogPost(\n",
        "      title = \"AI\",\n",
        "      content= \"AI is great!\",\n",
        "      tags= [\"AI\", \"ML\", \"Deep Learning\", \"NLP\", \"Data Science\", \"Big Data\"],\n",
        "      published_at=\"2025-03-04T12:30:00\",\n",
        "      author={\n",
        "        \"name\": \"John Doe\",\n",
        "        \"email\": \"john.doeexample.com\"\n",
        "    }\n",
        "  )\n",
        "  print(b)\n",
        "except ValidationError as e:\n",
        "  print(e)"
      ],
      "metadata": {
        "colab": {
          "base_uri": "https://localhost:8080/"
        },
        "id": "esdxmh7O0X3B",
        "outputId": "7e1a9494-34e2-40de-b4bf-ac33a89a0560"
      },
      "execution_count": 126,
      "outputs": [
        {
          "output_type": "stream",
          "name": "stdout",
          "text": [
            "4 validation errors for BlogPost\n",
            "title\n",
            "  String should have at least 10 characters [type=string_too_short, input_value='AI', input_type=str]\n",
            "    For further information visit https://errors.pydantic.dev/2.10/v/string_too_short\n",
            "content\n",
            "  String should have at least 100 characters [type=string_too_short, input_value='AI is great!', input_type=str]\n",
            "    For further information visit https://errors.pydantic.dev/2.10/v/string_too_short\n",
            "tags\n",
            "  List should have at most 5 items after validation, not 6 [type=too_long, input_value=['AI', 'ML', 'Deep Learni...ta Science', 'Big Data'], input_type=list]\n",
            "    For further information visit https://errors.pydantic.dev/2.10/v/too_long\n",
            "author.email\n",
            "  value is not a valid email address: An email address must have an @-sign. [type=value_error, input_value='john.doeexample.com', input_type=str]\n"
          ]
        }
      ]
    },
    {
      "cell_type": "markdown",
      "source": [
        "## 4️⃣ API Request Validation"
      ],
      "metadata": {
        "id": "gcrAwhig4eMU"
      }
    },
    {
      "cell_type": "code",
      "source": [
        "import uuid\n",
        "from pydantic import PastDatetime\n",
        "from typing import Dict, Any"
      ],
      "metadata": {
        "id": "gXTbPnge68Sg"
      },
      "execution_count": 127,
      "outputs": []
    },
    {
      "cell_type": "code",
      "source": [
        "### Goal ###\n",
        "'''\n",
        "API Request Validation\n",
        "  A request must have:\n",
        "    - A token (string, exactly 32 characters)\n",
        "    - A user_id (UUID)\n",
        "    - A timestamp (datetime, must be in the past)\n",
        "    - A payload (dictionary with string keys and any JSON-serializable values)\n",
        "'''\n",
        "\n",
        "class RequestValidation(BaseModel):\n",
        "  token: Annotated[str, Field(min_length=32, max_length=32)]   # or ---> 'constr(min_length=32, max_length=32)'\n",
        "  user_id: uuid.UUID\n",
        "  timestamp: PastDatetime\n",
        "  payload: Dict[str, Any] # Any JSON-serializable value."
      ],
      "metadata": {
        "id": "RwhJsyjO2wmE"
      },
      "execution_count": 128,
      "outputs": []
    },
    {
      "cell_type": "code",
      "source": [
        "# Example of valid instance.\n",
        "try:\n",
        "  r = RequestValidation(\n",
        "      token = \"a1b2c3d4e5f6g7h8i9j0k1l2m3n4o5p6\",\n",
        "      user_id=\"550e8400-e29b-41d4-a716-446655440000\",\n",
        "      timestamp= \"2024-03-04T12:30:00\",\n",
        "      payload= {\"username\": \"johndoe\",\n",
        "        \"score\": 95,\n",
        "        \"verified\": True,\n",
        "        \"preferences\": {\"theme\": \"dark\", \"notifications\": False},\n",
        "        \"items\": [\"apple\", \"banana\"],\n",
        "        \"discount\": None\n",
        "      }\n",
        "  )\n",
        "  print(r)\n",
        "except ValidationError as e:\n",
        "  print(e)"
      ],
      "metadata": {
        "colab": {
          "base_uri": "https://localhost:8080/"
        },
        "id": "I0wjOA2N88Fp",
        "outputId": "66637bf0-3c21-4bb3-969c-f1e5f3b8ef86"
      },
      "execution_count": 129,
      "outputs": [
        {
          "output_type": "stream",
          "name": "stdout",
          "text": [
            "token='a1b2c3d4e5f6g7h8i9j0k1l2m3n4o5p6' user_id=UUID('550e8400-e29b-41d4-a716-446655440000') timestamp=datetime.datetime(2024, 3, 4, 12, 30) payload={'username': 'johndoe', 'score': 95, 'verified': True, 'preferences': {'theme': 'dark', 'notifications': False}, 'items': ['apple', 'banana'], 'discount': None}\n"
          ]
        }
      ]
    },
    {
      "cell_type": "code",
      "source": [
        "# Example of invalid instance.\n",
        "try:\n",
        "  r = RequestValidation(\n",
        "      token = \"shorttoken123\",\n",
        "      user_id=\"12345\",\n",
        "      timestamp= \"2030-01-01T12:00:00\",\n",
        "      payload= {\"username\": \"johndoe\",\n",
        "        42: 95,\n",
        "        \"verified\": True,\n",
        "        \"preferences\": {\"theme\": \"dark\", \"notifications\": False},\n",
        "        \"items\": [\"apple\", \"banana\"],\n",
        "        \"discount\": None\n",
        "      }\n",
        "  )\n",
        "  print(r)\n",
        "except ValidationError as e:\n",
        "  print(e)"
      ],
      "metadata": {
        "colab": {
          "base_uri": "https://localhost:8080/"
        },
        "id": "GuoZjbPq9n9o",
        "outputId": "be87ef92-3124-4536-fad6-01bed6949271"
      },
      "execution_count": 130,
      "outputs": [
        {
          "output_type": "stream",
          "name": "stdout",
          "text": [
            "4 validation errors for RequestValidation\n",
            "token\n",
            "  String should have at least 32 characters [type=string_too_short, input_value='shorttoken123', input_type=str]\n",
            "    For further information visit https://errors.pydantic.dev/2.10/v/string_too_short\n",
            "user_id\n",
            "  Input should be a valid UUID, invalid length: expected length 32 for simple format, found 5 [type=uuid_parsing, input_value='12345', input_type=str]\n",
            "    For further information visit https://errors.pydantic.dev/2.10/v/uuid_parsing\n",
            "timestamp\n",
            "  Input should be in the past [type=datetime_past, input_value='2030-01-01T12:00:00', input_type=str]\n",
            "    For further information visit https://errors.pydantic.dev/2.10/v/datetime_past\n",
            "payload.42.[key]\n",
            "  Input should be a valid string [type=string_type, input_value=42, input_type=int]\n",
            "    For further information visit https://errors.pydantic.dev/2.10/v/string_type\n"
          ]
        }
      ]
    },
    {
      "cell_type": "markdown",
      "source": [
        "##5️⃣ Employee Management System"
      ],
      "metadata": {
        "id": "MiR18xZnoJBL"
      }
    },
    {
      "cell_type": "code",
      "source": [
        "from pydantic import PositiveInt, PastDatetime"
      ],
      "metadata": {
        "id": "ET5WLQoooqaZ"
      },
      "execution_count": 131,
      "outputs": []
    },
    {
      "cell_type": "code",
      "source": [
        "### Goal ###\n",
        "'''\n",
        "Employee Management System\n",
        "  An employee must have:\n",
        "    - A name (string, non-empty)\n",
        "    - An employee_id (positive integer)\n",
        "    - A salary (float, at least 30000)\n",
        "    - A role (enum: \"manager\", \"developer\", \"designer\")\n",
        "    - A joining_date (date, must be before today)\n",
        "'''\n",
        "\n",
        "class EmployeeManagementSystem(BaseModel):\n",
        "  name: str = Field(..., min_length=1)\n",
        "  employee_id: PositiveInt\n",
        "  salary: Annotated[float, Field(ge=30000)]\n",
        "  role: Literal[\"manager\", \"developer\", \"designer\"]\n",
        "  joining_date: PastDatetime"
      ],
      "metadata": {
        "id": "d-nWYgpnnz34"
      },
      "execution_count": 132,
      "outputs": []
    },
    {
      "cell_type": "code",
      "source": [
        "# Example of valid instance.\n",
        "try:\n",
        "  e = EmployeeManagementSystem(\n",
        "      name = 'Ahmed',\n",
        "      employee_id = 123,\n",
        "      salary= 120_000,\n",
        "      role='manager',\n",
        "      joining_date = \"2024-03-30T12:00:00\",\n",
        "  )\n",
        "  print(e)\n",
        "except ValidationError as e:\n",
        "  print(e)"
      ],
      "metadata": {
        "colab": {
          "base_uri": "https://localhost:8080/"
        },
        "id": "CGOTHOv9pM9f",
        "outputId": "39aa42b6-18b3-4db3-da67-9c5bc1a3161b"
      },
      "execution_count": 133,
      "outputs": [
        {
          "output_type": "stream",
          "name": "stdout",
          "text": [
            "name='Ahmed' employee_id=123 salary=120000.0 role='manager' joining_date=datetime.datetime(2024, 3, 30, 12, 0)\n"
          ]
        }
      ]
    },
    {
      "cell_type": "code",
      "source": [
        "# Example of invalid instance.\n",
        "try:\n",
        "  e = EmployeeManagementSystem(\n",
        "      name = '',\n",
        "      employee_id = -123,\n",
        "      salary= 20000,\n",
        "      role='architecture',\n",
        "      joining_date = \"2024-03-3012:00:00\",\n",
        "  )\n",
        "  print(e)\n",
        "except ValidationError as e:\n",
        "  print(e)"
      ],
      "metadata": {
        "colab": {
          "base_uri": "https://localhost:8080/"
        },
        "id": "RWE4KtmrpsZx",
        "outputId": "a062a5ed-2277-4588-b34c-2e2d0de8f873"
      },
      "execution_count": 134,
      "outputs": [
        {
          "output_type": "stream",
          "name": "stdout",
          "text": [
            "5 validation errors for EmployeeManagementSystem\n",
            "name\n",
            "  String should have at least 1 character [type=string_too_short, input_value='', input_type=str]\n",
            "    For further information visit https://errors.pydantic.dev/2.10/v/string_too_short\n",
            "employee_id\n",
            "  Input should be greater than 0 [type=greater_than, input_value=-123, input_type=int]\n",
            "    For further information visit https://errors.pydantic.dev/2.10/v/greater_than\n",
            "salary\n",
            "  Input should be greater than or equal to 30000 [type=greater_than_equal, input_value=20000, input_type=int]\n",
            "    For further information visit https://errors.pydantic.dev/2.10/v/greater_than_equal\n",
            "role\n",
            "  Input should be 'manager', 'developer' or 'designer' [type=literal_error, input_value='architecture', input_type=str]\n",
            "    For further information visit https://errors.pydantic.dev/2.10/v/literal_error\n",
            "joining_date\n",
            "  Input should be a valid datetime or date, unexpected extra characters at the end of the input [type=datetime_from_date_parsing, input_value='2024-03-3012:00:00', input_type=str]\n",
            "    For further information visit https://errors.pydantic.dev/2.10/v/datetime_from_date_parsing\n"
          ]
        }
      ]
    },
    {
      "cell_type": "markdown",
      "source": [
        "## 6️⃣ Order Processing System"
      ],
      "metadata": {
        "id": "n2_47TSjqf3L"
      }
    },
    {
      "cell_type": "code",
      "source": [
        "import uuid\n",
        "from pydantic import PositiveInt"
      ],
      "metadata": {
        "id": "6-SU34GMqx5Y"
      },
      "execution_count": 135,
      "outputs": []
    },
    {
      "cell_type": "code",
      "source": [
        "### Goal ###\n",
        "'''\n",
        "Order Processing System\n",
        "  An order must have:\n",
        "    - An order_id (UUID)\n",
        "    - A customer_name (string, min 3 characters)\n",
        "    - A items (list of dictionaries with item_name and quantity, where quantity is a positive integer)\n",
        "    - A total_price (float, calculated from items)\n",
        "    - A status (enum: \"pending\", \"shipped\", \"delivered\", \"cancelled\")\n",
        "'''\n",
        "\n",
        "class Item(BaseModel):\n",
        "  item_name: str = Field(..., min_length=1)\n",
        "  quantity: PositiveInt    # Or 'int = Field(..., gt=0)'\n",
        "  price: float = Field(..., gt=0)\n",
        "\n",
        "class OrderProcessingSystem(BaseModel):\n",
        "  order_id: uuid.UUID\n",
        "  customer_name: str = Field(..., min_length=3)\n",
        "  items: List[Item]\n",
        "  status: Literal[\"pending\", \"shipped\", \"delivered\", \"cancelled\"]\n",
        "\n",
        "  @property\n",
        "  def total_price(self) -> float:\n",
        "    return sum(item.price * item.quantity for item in self.items)"
      ],
      "metadata": {
        "id": "LAJAH7DeqO68"
      },
      "execution_count": 136,
      "outputs": []
    },
    {
      "cell_type": "code",
      "source": [
        "# Example of valid instance.\n",
        "try:\n",
        "  o = OrderProcessingSystem(\n",
        "      order_id = \"550e8400-e29b-41d4-a716-446655440000\",\n",
        "      customer_name= \"Ahmed\",\n",
        "      items = [\n",
        "          {\n",
        "              \"item_name\" : 'laptop',\n",
        "              \"quantity\" : 2,\n",
        "              \"price\" : 1000,\n",
        "          },\n",
        "          {\n",
        "              \"item_name\" : 'mouse',\n",
        "              \"quantity\" : 10,\n",
        "              \"price\" : 80\n",
        "          }\n",
        "      ],\n",
        "      status = 'delivered'\n",
        "  )\n",
        "  print(o)\n",
        "  print(\"Total Salary: \", o.total_price)\n",
        "except ValidationError as e:\n",
        "  print(e)"
      ],
      "metadata": {
        "colab": {
          "base_uri": "https://localhost:8080/"
        },
        "id": "IpJhzRvxq6DV",
        "outputId": "fb994369-d93e-4b77-863c-d7209e9a681f"
      },
      "execution_count": 137,
      "outputs": [
        {
          "output_type": "stream",
          "name": "stdout",
          "text": [
            "order_id=UUID('550e8400-e29b-41d4-a716-446655440000') customer_name='Ahmed' items=[Item(item_name='laptop', quantity=2, price=1000.0), Item(item_name='mouse', quantity=10, price=80.0)] status='delivered'\n",
            "Total Salary:  2800.0\n"
          ]
        }
      ]
    },
    {
      "cell_type": "code",
      "source": [
        "# Example of invalid instance.\n",
        "try:\n",
        "  o = OrderProcessingSystem(\n",
        "      order_id = \"550e8400-e29b-41d4-a716\",\n",
        "      customer_name= \"Ah\",\n",
        "      items = [\n",
        "          {\n",
        "              \"item_name\" : 'laptop',\n",
        "              \"quantity\" : 2,\n",
        "              \"price\" : -1000,\n",
        "          },\n",
        "          {\n",
        "              \"item_name\" : 'mouse',\n",
        "              \"quantity\" : 10,\n",
        "              \"price\" : 80\n",
        "          }\n",
        "      ],\n",
        "      status = 'delive'\n",
        "  )\n",
        "  print(o)\n",
        "  print(\"Total Salary: \", o.total_price)\n",
        "except ValidationError as e:\n",
        "  print(e)"
      ],
      "metadata": {
        "colab": {
          "base_uri": "https://localhost:8080/"
        },
        "id": "wQiGPaDktfDA",
        "outputId": "34359c00-a26b-48af-bec8-177828ba5aad"
      },
      "execution_count": 138,
      "outputs": [
        {
          "output_type": "stream",
          "name": "stdout",
          "text": [
            "4 validation errors for OrderProcessingSystem\n",
            "order_id\n",
            "  Input should be a valid UUID, invalid group count: expected 5, found 4 [type=uuid_parsing, input_value='550e8400-e29b-41d4-a716', input_type=str]\n",
            "    For further information visit https://errors.pydantic.dev/2.10/v/uuid_parsing\n",
            "customer_name\n",
            "  String should have at least 3 characters [type=string_too_short, input_value='Ah', input_type=str]\n",
            "    For further information visit https://errors.pydantic.dev/2.10/v/string_too_short\n",
            "items.0.price\n",
            "  Input should be greater than 0 [type=greater_than, input_value=-1000, input_type=int]\n",
            "    For further information visit https://errors.pydantic.dev/2.10/v/greater_than\n",
            "status\n",
            "  Input should be 'pending', 'shipped', 'delivered' or 'cancelled' [type=literal_error, input_value='delive', input_type=str]\n",
            "    For further information visit https://errors.pydantic.dev/2.10/v/literal_error\n"
          ]
        }
      ]
    },
    {
      "cell_type": "markdown",
      "source": [
        "## 7️⃣ IoT Sensor Data Schema"
      ],
      "metadata": {
        "id": "JjyCb0DjvfaY"
      }
    },
    {
      "cell_type": "code",
      "source": [
        "import uuid"
      ],
      "metadata": {
        "id": "B3kP3ZWXvzwE"
      },
      "execution_count": 139,
      "outputs": []
    },
    {
      "cell_type": "code",
      "source": [
        "### Goal ###\n",
        "'''\n",
        "IoT Sensor Data Schema\n",
        "  A sensor must have:\n",
        "    - A sensor_id (UUID)\n",
        "    - A temperature (float, between -50 and 150)\n",
        "    - A humidity (float, between 0 and 100)\n",
        "    - A status (boolean, active or inactive)\n",
        "    - A timestamp (datetime, default to now)\n",
        "'''\n",
        "\n",
        "\n",
        "class IoTSensorDataSchema(BaseModel):\n",
        "  sensor_id: uuid.UUID\n",
        "  temperature: float = Field(..., ge=-50, le=150)\n",
        "  humidity: float = Field(..., ge=0, le=100)\n",
        "  status: Literal['active', 'inactive']\n",
        "  timestamp: datetime = Field(default='now')"
      ],
      "metadata": {
        "id": "xro43btMvV0J"
      },
      "execution_count": 140,
      "outputs": []
    },
    {
      "cell_type": "code",
      "source": [
        "# Example of valid instance.\n",
        "try:\n",
        "  i = IoTSensorDataSchema(\n",
        "      sensor_id= \"550e8400-e29b-41d4-a716-446655440000\",\n",
        "      temperature= 32,\n",
        "      humidity= 23,\n",
        "      status= 'active',\n",
        "  )\n",
        "  print(i)\n",
        "except ValidationError as e:\n",
        "  print(e)"
      ],
      "metadata": {
        "colab": {
          "base_uri": "https://localhost:8080/"
        },
        "id": "E0sRqlF5xAo8",
        "outputId": "52d5aa63-1d59-47ef-e540-4f29b2e75f9f"
      },
      "execution_count": 141,
      "outputs": [
        {
          "output_type": "stream",
          "name": "stdout",
          "text": [
            "sensor_id=UUID('550e8400-e29b-41d4-a716-446655440000') temperature=32.0 humidity=23.0 status='active' timestamp='now'\n"
          ]
        }
      ]
    },
    {
      "cell_type": "code",
      "source": [
        "# Example of invalid instance.\n",
        "try:\n",
        "  i = IoTSensorDataSchema(\n",
        "      sensor_id= \"e29b-41d4-a716-446655440000\",\n",
        "      temperature= -72,\n",
        "      humidity= -23,\n",
        "      status= 'aactive',\n",
        "  )\n",
        "  print(i)\n",
        "except ValidationError as e:\n",
        "  print(e)"
      ],
      "metadata": {
        "colab": {
          "base_uri": "https://localhost:8080/"
        },
        "id": "ie0pNzVbxROB",
        "outputId": "7760d5f7-6cca-4c3e-8e44-c8b1cdbf40e5"
      },
      "execution_count": 142,
      "outputs": [
        {
          "output_type": "stream",
          "name": "stdout",
          "text": [
            "4 validation errors for IoTSensorDataSchema\n",
            "sensor_id\n",
            "  Input should be a valid UUID, invalid group count: expected 5, found 4 [type=uuid_parsing, input_value='e29b-41d4-a716-446655440000', input_type=str]\n",
            "    For further information visit https://errors.pydantic.dev/2.10/v/uuid_parsing\n",
            "temperature\n",
            "  Input should be greater than or equal to -50 [type=greater_than_equal, input_value=-72, input_type=int]\n",
            "    For further information visit https://errors.pydantic.dev/2.10/v/greater_than_equal\n",
            "humidity\n",
            "  Input should be greater than or equal to 0 [type=greater_than_equal, input_value=-23, input_type=int]\n",
            "    For further information visit https://errors.pydantic.dev/2.10/v/greater_than_equal\n",
            "status\n",
            "  Input should be 'active' or 'inactive' [type=literal_error, input_value='aactive', input_type=str]\n",
            "    For further information visit https://errors.pydantic.dev/2.10/v/literal_error\n"
          ]
        }
      ]
    },
    {
      "cell_type": "markdown",
      "source": [
        "## 8️⃣ Student Records Schema"
      ],
      "metadata": {
        "id": "keCcCj6Nxk3_"
      }
    },
    {
      "cell_type": "code",
      "source": [
        "from pydantic import EmailStr"
      ],
      "metadata": {
        "id": "tQTWwMacx8fA"
      },
      "execution_count": 143,
      "outputs": []
    },
    {
      "cell_type": "code",
      "source": [
        "### Goal ###\n",
        "'''\n",
        "Student Records Schema\n",
        "  A student must have:\n",
        "    - A full_name (string, min 3 characters)\n",
        "    - An email (valid email)\n",
        "    - A gpa (float, between 0 and 4.0)\n",
        "    - A courses (list of dictionaries, each with course_name and credits where credits is 1-6)\n",
        "'''\n",
        "\n",
        "class Course(BaseModel):\n",
        "  course_name: str = Field(..., min_length=1)\n",
        "  credits: int = Field(..., ge=1, le=6)\n",
        "\n",
        "class StudentRecordsSchema(BaseModel):\n",
        "  full_name: str = Field(..., min_length=3)\n",
        "  email: EmailStr\n",
        "  gpa: float = Field(..., ge=0.0, le=4.0)\n",
        "  courses: List[Course]"
      ],
      "metadata": {
        "id": "OHqS-Tbfxj3t"
      },
      "execution_count": 144,
      "outputs": []
    },
    {
      "cell_type": "code",
      "source": [
        "# Example of valid instance.\n",
        "try:\n",
        "  s = StudentRecordsSchema(\n",
        "      full_name= \"Ahmed Adel\",\n",
        "      email= 'ahmed30@gmail.com',\n",
        "      gpa= 3.9,\n",
        "      courses= [\n",
        "          {\n",
        "              \"course_name\": \"Database\",\n",
        "              \"credits\": 4\n",
        "          },\n",
        "          {\n",
        "              \"course_name\": \"OS\",\n",
        "              \"credits\": 5\n",
        "          }\n",
        "      ]\n",
        "  )\n",
        "  print(s)\n",
        "except ValidationError as e:\n",
        "  print(e)"
      ],
      "metadata": {
        "colab": {
          "base_uri": "https://localhost:8080/"
        },
        "id": "o1kVuij2yX_W",
        "outputId": "03c4bbd9-4583-467b-9a3b-00d57931028c"
      },
      "execution_count": 145,
      "outputs": [
        {
          "output_type": "stream",
          "name": "stdout",
          "text": [
            "full_name='Ahmed Adel' email='ahmed30@gmail.com' gpa=3.9 courses=[Course(course_name='Database', credits=4), Course(course_name='OS', credits=5)]\n"
          ]
        }
      ]
    },
    {
      "cell_type": "code",
      "source": [
        "# Example of invalid instance.\n",
        "try:\n",
        "  s = StudentRecordsSchema(\n",
        "      full_name= \"Ah\",\n",
        "      email= 'ahmed30gmail.com',\n",
        "      gpa= -3.9,\n",
        "      courses= [\n",
        "          {\n",
        "              \"course_name\": \"Database\",\n",
        "              \"credits\": 7\n",
        "          },\n",
        "          {\n",
        "              \"course_name\": \"OS\",\n",
        "              \"credits\": 5\n",
        "          }\n",
        "      ]\n",
        "  )\n",
        "  print(s)\n",
        "except ValidationError as e:\n",
        "  print(e)"
      ],
      "metadata": {
        "colab": {
          "base_uri": "https://localhost:8080/"
        },
        "id": "T2ABZ28zy5DO",
        "outputId": "146fd8ed-3d5c-4565-ced0-9dd647671f42"
      },
      "execution_count": 146,
      "outputs": [
        {
          "output_type": "stream",
          "name": "stdout",
          "text": [
            "4 validation errors for StudentRecordsSchema\n",
            "full_name\n",
            "  String should have at least 3 characters [type=string_too_short, input_value='Ah', input_type=str]\n",
            "    For further information visit https://errors.pydantic.dev/2.10/v/string_too_short\n",
            "email\n",
            "  value is not a valid email address: An email address must have an @-sign. [type=value_error, input_value='ahmed30gmail.com', input_type=str]\n",
            "gpa\n",
            "  Input should be greater than or equal to 0 [type=greater_than_equal, input_value=-3.9, input_type=float]\n",
            "    For further information visit https://errors.pydantic.dev/2.10/v/greater_than_equal\n",
            "courses.0.credits\n",
            "  Input should be less than or equal to 6 [type=less_than_equal, input_value=7, input_type=int]\n",
            "    For further information visit https://errors.pydantic.dev/2.10/v/less_than_equal\n"
          ]
        }
      ]
    },
    {
      "cell_type": "markdown",
      "source": [
        "## 9️⃣ Car Rental System"
      ],
      "metadata": {
        "id": "f7keJBd8zW_-"
      }
    },
    {
      "cell_type": "code",
      "source": [
        "import uuid\n",
        "from pydantic import validator"
      ],
      "metadata": {
        "id": "xuS-GSS1zqLE"
      },
      "execution_count": 147,
      "outputs": []
    },
    {
      "cell_type": "code",
      "source": [
        "### Goal ###\n",
        "'''\n",
        "Car Rental System\n",
        "  A rental record must have:\n",
        "    - A car_id (UUID)\n",
        "    - A customer_name (string, min 3 characters)\n",
        "    - A rental_start (datetime)\n",
        "    - A rental_end (datetime, must be after rental_start)\n",
        "    - A price_per_day (float, positive)\n",
        "    - A total_price (float, calculated based on rental days)\n",
        "'''\n",
        "\n",
        "\n",
        "class CarRentalSystem(BaseModel):\n",
        "  car_id: uuid.UUID\n",
        "  customer_name: str = Field(..., min_length=3)\n",
        "  rental_days: int = Field(..., gt=0)\n",
        "  rental_start: datetime\n",
        "  rental_end: datetime\n",
        "  price_per_day: float = Field(..., gt=0)\n",
        "\n",
        "  @property\n",
        "  def total_price(self) -> float:\n",
        "    return self.price_per_day * self.rental_days\n",
        "\n",
        "  @validator(\"rental_end\")\n",
        "  def validate_rental_end_bigger_than_rental_start(cls, rental_end, values):\n",
        "    rental_start = values.get(\"rental_start\")\n",
        "    if rental_start and rental_end <= rental_start:\n",
        "      raise ValueError(\"rental_end must be after rental_start\")\n",
        "    return rental_end"
      ],
      "metadata": {
        "colab": {
          "base_uri": "https://localhost:8080/"
        },
        "id": "WARtZP_5zOx1",
        "outputId": "120518ad-c0c6-4719-e337-eede89a2d0c4"
      },
      "execution_count": 148,
      "outputs": [
        {
          "output_type": "stream",
          "name": "stderr",
          "text": [
            "<ipython-input-148-45ea5f4c1803>:26: PydanticDeprecatedSince20: Pydantic V1 style `@validator` validators are deprecated. You should migrate to Pydantic V2 style `@field_validator` validators, see the migration guide for more details. Deprecated in Pydantic V2.0 to be removed in V3.0. See Pydantic V2 Migration Guide at https://errors.pydantic.dev/2.10/migration/\n",
            "  @validator(\"rental_end\")\n"
          ]
        }
      ]
    },
    {
      "cell_type": "code",
      "source": [
        "# Example of valid instance.\n",
        "try:\n",
        "  c = CarRentalSystem(\n",
        "      car_id = \"550e8400-e29b-41d4-a716-446655440000\",\n",
        "      customer_name = \"Ahmed\",\n",
        "      rental_days = 3,\n",
        "      rental_start = \"2025-03-01T12:00:00\",\n",
        "      rental_end = \"2025-03-04T12:00:00\",\n",
        "      price_per_day = 100\n",
        "  )\n",
        "  print(c)\n",
        "except ValidationError as e:\n",
        "  print(e)"
      ],
      "metadata": {
        "colab": {
          "base_uri": "https://localhost:8080/"
        },
        "id": "71dJ6bqG1YHZ",
        "outputId": "e105e359-f810-42fc-fc9a-0bb772806f12"
      },
      "execution_count": 149,
      "outputs": [
        {
          "output_type": "stream",
          "name": "stdout",
          "text": [
            "car_id=UUID('550e8400-e29b-41d4-a716-446655440000') customer_name='Ahmed' rental_days=3 rental_start=datetime.datetime(2025, 3, 1, 12, 0) rental_end=datetime.datetime(2025, 3, 4, 12, 0) price_per_day=100.0\n"
          ]
        }
      ]
    },
    {
      "cell_type": "code",
      "source": [
        "# Example of invalid instance.\n",
        "try:\n",
        "  c = CarRentalSystem(\n",
        "      car_id = \"550e8400-e29b-41d4-a716-446655440000\",\n",
        "      customer_name = \"Ahmed\",\n",
        "      rental_days = 3,\n",
        "      rental_start = \"2025-03-01T12:00:00\",\n",
        "      rental_end = \"2024-03-04T12:00:00\",   # I changed only this.\n",
        "      price_per_day = 100\n",
        "  )\n",
        "  print(c)\n",
        "except ValidationError as e:\n",
        "  print(e)"
      ],
      "metadata": {
        "colab": {
          "base_uri": "https://localhost:8080/"
        },
        "id": "3r9uCaPv15Yj",
        "outputId": "54c450fb-125c-421d-d173-0ebca3e1c3b7"
      },
      "execution_count": 150,
      "outputs": [
        {
          "output_type": "stream",
          "name": "stdout",
          "text": [
            "1 validation error for CarRentalSystem\n",
            "rental_end\n",
            "  Value error, rental_end must be after rental_start [type=value_error, input_value='2024-03-04T12:00:00', input_type=str]\n",
            "    For further information visit https://errors.pydantic.dev/2.10/v/value_error\n"
          ]
        }
      ]
    },
    {
      "cell_type": "markdown",
      "source": [
        "## 🔟 Cryptocurrency Transaction Validation"
      ],
      "metadata": {
        "id": "hbmpjuwY2JHN"
      }
    },
    {
      "cell_type": "code",
      "source": [
        "import uuid\n",
        "from pydantic import PastDatetime"
      ],
      "metadata": {
        "id": "Z1K8BZdK2cQD"
      },
      "execution_count": 151,
      "outputs": []
    },
    {
      "cell_type": "code",
      "source": [
        "### Goal ###\n",
        "'''\n",
        "Cryptocurrency Transaction Validation\n",
        "  A transaction must have:\n",
        "    - A transaction_id (UUID)\n",
        "    - A sender_wallet (string, exactly 34 characters)\n",
        "    - A receiver_wallet (string, exactly 34 characters)\n",
        "    - An amount (float, at least 0.0001)\n",
        "    - A timestamp (datetime, must be in the past)\n",
        "\n",
        "'''\n",
        "\n",
        "class Cryptocurrency(BaseModel):\n",
        "  transaction_id: uuid.UUID\n",
        "  sender_wallet: str = Field(..., min_length= 34, max_length= 34)\n",
        "  receiver_wallet: str = Field(..., min_length= 34, max_length= 34)\n",
        "  amount: float = Field(..., ge=0.0001)\n",
        "  timestamp: PastDatetime"
      ],
      "metadata": {
        "id": "eOAb5hx818p4"
      },
      "execution_count": 152,
      "outputs": []
    },
    {
      "cell_type": "code",
      "source": [
        "# Example of valid instance.\n",
        "try:\n",
        "  c = Cryptocurrency(\n",
        "      transaction_id=\"550e8400-e29b-41d4-a716-446655440000\",\n",
        "      sender_wallet= \"dkem39ekc9ekls9ekvjeljokdjvldjeljf\",\n",
        "      receiver_wallet= \"dkem39ekc9ekls9ekvjeljokdjvldjeknk\",\n",
        "      amount= 3.5,\n",
        "      timestamp=\"2024-03-04T12:00:00\"\n",
        "  )\n",
        "  print(c)\n",
        "except ValidationError as e:\n",
        "  print(e)"
      ],
      "metadata": {
        "colab": {
          "base_uri": "https://localhost:8080/"
        },
        "id": "vfyJQU9C2-4T",
        "outputId": "6eb8f266-ed88-476a-adb6-2e566eb108a7"
      },
      "execution_count": 153,
      "outputs": [
        {
          "output_type": "stream",
          "name": "stdout",
          "text": [
            "transaction_id=UUID('550e8400-e29b-41d4-a716-446655440000') sender_wallet='dkem39ekc9ekls9ekvjeljokdjvldjeljf' receiver_wallet='dkem39ekc9ekls9ekvjeljokdjvldjeknk' amount=3.5 timestamp=datetime.datetime(2024, 3, 4, 12, 0)\n"
          ]
        }
      ]
    },
    {
      "cell_type": "code",
      "source": [
        "# Example of invalid instance.\n",
        "try:\n",
        "  c = Cryptocurrency(\n",
        "      transaction_id=\"550e840-41d4-a716-446655440000\",\n",
        "      sender_wallet= \"dkem39ekckls9ekvjeljokdjvldjeljf\",\n",
        "      receiver_wallet= \"dkem3ls9ekvjeljokdjvldjeknk\",\n",
        "      amount= 0,\n",
        "      timestamp=\"2027-03-04T12:00:00\"\n",
        "  )\n",
        "  print(c)\n",
        "except ValidationError as e:\n",
        "  print(e)"
      ],
      "metadata": {
        "colab": {
          "base_uri": "https://localhost:8080/"
        },
        "id": "abb3zw9I3icu",
        "outputId": "44e7f40d-9b79-487b-c24e-2ff202101c92"
      },
      "execution_count": 154,
      "outputs": [
        {
          "output_type": "stream",
          "name": "stdout",
          "text": [
            "5 validation errors for Cryptocurrency\n",
            "transaction_id\n",
            "  Input should be a valid UUID, invalid group count: expected 5, found 4 [type=uuid_parsing, input_value='550e840-41d4-a716-446655440000', input_type=str]\n",
            "    For further information visit https://errors.pydantic.dev/2.10/v/uuid_parsing\n",
            "sender_wallet\n",
            "  String should have at least 34 characters [type=string_too_short, input_value='dkem39ekckls9ekvjeljokdjvldjeljf', input_type=str]\n",
            "    For further information visit https://errors.pydantic.dev/2.10/v/string_too_short\n",
            "receiver_wallet\n",
            "  String should have at least 34 characters [type=string_too_short, input_value='dkem3ls9ekvjeljokdjvldjeknk', input_type=str]\n",
            "    For further information visit https://errors.pydantic.dev/2.10/v/string_too_short\n",
            "amount\n",
            "  Input should be greater than or equal to 0.0001 [type=greater_than_equal, input_value=0, input_type=int]\n",
            "    For further information visit https://errors.pydantic.dev/2.10/v/greater_than_equal\n",
            "timestamp\n",
            "  Input should be in the past [type=datetime_past, input_value='2027-03-04T12:00:00', input_type=str]\n",
            "    For further information visit https://errors.pydantic.dev/2.10/v/datetime_past\n"
          ]
        }
      ]
    },
    {
      "cell_type": "code",
      "source": [],
      "metadata": {
        "id": "df0Ch_XB39_6"
      },
      "execution_count": 154,
      "outputs": []
    }
  ]
}